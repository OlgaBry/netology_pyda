{
 "cells": [
  {
   "cell_type": "markdown",
   "metadata": {},
   "source": [
    "**Задание 1**. Даны 2 строки: *long_phrase* и *short_phrase*. \n",
    "Напишите код, который проверяет действительно ли длинная фраза *long_phrase* длиннее короткой *short_phrase*. И выводит *True* или *False* в зависимости от результата сравнения."
   ]
  },
  {
   "cell_type": "code",
   "execution_count": 1,
   "metadata": {},
   "outputs": [],
   "source": [
    "long_phrase = 'Насколько проще было бы писать программы, если бы не заказчики'\n",
    "short_phrase = '640Кб должно хватить для любых задач. Билл Гейтс (по легенде)'"
   ]
  },
  {
   "cell_type": "code",
   "execution_count": 6,
   "metadata": {},
   "outputs": [
    {
     "data": {
      "text/plain": [
       "False"
      ]
     },
     "execution_count": 6,
     "metadata": {},
     "output_type": "execute_result"
    }
   ],
   "source": [
    "long_phraze=\"Насколько проще было бы писать программы, если бы не заказчик\"\n",
    "short_phraze=\"640Кб должно хватить для любых задач. Билл Гейтс (по легенде)\"\n",
    "len(long_phraze)>len(short_phraze)"
   ]
  },
  {
   "cell_type": "markdown",
   "metadata": {},
   "source": [
    "**Задание 2**. Дано значение объема файла в байтах. Напишите перевод этого значения в мегабайты в формате: \"*Объем файла равен 213.68Mb*\""
   ]
  },
  {
   "cell_type": "code",
   "execution_count": 5,
   "metadata": {},
   "outputs": [
    {
     "name": "stdout",
     "output_type": "stream",
     "text": [
      "Объём файла равен 213.68 Mb\n"
     ]
    }
   ],
   "source": [
    "a_bait=224059720\n",
    "a_megabait=print(\"Объём файла равен\", round(a_bait/1024/1024 , 2) , \"Mb\")\n"
   ]
  },
  {
   "cell_type": "markdown",
   "metadata": {},
   "source": [
    "**Задание 3**. Разработать приложение для определения знака зодиака по дате рождения. Пример:\n",
    "\n",
    "Введите месяц: март\n",
    "\n",
    "Введите число: 6\n",
    "\n",
    "Вывод:\n",
    "Рыбы"
   ]
  },
  {
   "cell_type": "code",
   "execution_count": 4,
   "metadata": {},
   "outputs": [
    {
     "name": "stdout",
     "output_type": "stream",
     "text": [
      "Введите месяц: март\n",
      "Введите число: 6\n",
      "Рыбы\n"
     ]
    }
   ],
   "source": [
    "month = input(\"Введите месяц: \")\n",
    "if(month==\"январь\") or (month==\"март\") or (month==\"май\") or (month==\"июль\") or (month==\"август\") or (month==\"октябрь\") or (month==\"декабрь\"):\n",
    "    day = int(input(\"Введите число: \"))\n",
    "    if 1 < day > 31:\n",
    "        print(\"Неверно введен день.\")\n",
    "    elif month==\"январь\" and day >= 20:\n",
    "        print(\"Водолей\")\n",
    "    elif month==\"март\" and day <= 21:\n",
    "        print(\"Рыбы\")    \n",
    "    elif month==\"март\" and day >= 20:\n",
    "        print(\"Овен\")  \n",
    "    elif month==\"май\" and day <= 21:\n",
    "        print(\"Телец\")             \n",
    "    elif month==\"май\" and day >= 22:\n",
    "        print(\"Близнецы\")   \n",
    "    elif month==\"июль\" and day <= 21:\n",
    "        print(\"Рак\") \n",
    "    elif month==\"июль\" and day >= 22 or month==\"август\" and day <= 21:\n",
    "        print(\"Лев\") \n",
    "    elif month==\"август\" and day >= 22:\n",
    "        print(\"Дева\") \n",
    "    elif month==\"октябрь\" and day <=21:\n",
    "        print(\"Весы\") \n",
    "    elif month==\"октябрь\" and day >= 22:\n",
    "        print(\"Скорпион\") \n",
    "    elif month==\"декабрь\" and day <= 21:\n",
    "        print(\"Стрелец\") \n",
    "    elif month==\"декабрь\" and day >= 22 or month==\"январь\" and day <= 19:\n",
    "        print(\"Козерог\") \n",
    "elif (month==\"апрель\") or (month==\"июнь\") or (month==\"сентябрь\") or (month==\"ноябрь\"):\n",
    "    day = int(input(\"Введите число: \"))\n",
    "    if 1 < day > 30:\n",
    "        print(\"Неверно введен день.\")\n",
    "    elif month==\"апрель\" and day <= 21:\n",
    "        print(\"Овен\")  \n",
    "    elif month==\"апрель\" and day >= 22:\n",
    "        print(\"Телец\")             \n",
    "    elif month==\"июнь\" and day <= 21:\n",
    "        print(\"Близнецы\")   \n",
    "    elif month==\"июнь\" and day >= 22:\n",
    "        print(\"Рак\") \n",
    "    elif month==\"сентябрь\" and day <= 21:\n",
    "        print(\"Дева\") \n",
    "    elif month==\"сентябрь\" and day >= 22:\n",
    "        print(\"Весы\") \n",
    "    elif month==\"ноябрь\" and day <= 20:\n",
    "        print(\"Скорпион\") \n",
    "    elif month==\"ноябрь\" and day >= 21:\n",
    "        print(\"Стрелец\") \n",
    "elif (month==\"февраль\"):\n",
    "    day = int(input(\"Введите число:\"))\n",
    "    if 1 < day > 29:\n",
    "        print(\"Неверно введен день.\")\n",
    "    elif month ==\"январь\" and day >= 20 or month==\"февраль\" and day <= 19:\n",
    "        print(\"Водолей\")\n",
    "    elif month==\"февраль\" and day >= 20 or month==\"март\" and day <= 21:\n",
    "        print(\"Рыбы\")    \n",
    "else:\n",
    "    print(\"Неверно введен месяц. Пример: январь; февраль; март; апрель; май; июнь; июль; август; сентябрь; октябрь; ноябрь; декабрь.\")"
   ]
  },
  {
   "cell_type": "markdown",
   "metadata": {},
   "source": [
    "**Задание 4**. Нужно разработать приложение для финансового планирования.\n",
    "Приложение учитывает сколько уходит на ипотеку, \"на жизнь\" и сколько нужно отложить на пенсию.\n",
    "Пользователь вводит:\n",
    "- заработанную плату в месяц.\n",
    "- сколько процентов от ЗП уходит на ипотеку.\n",
    "- сколько процентов от ЗП уходит \"на жизнь\".\n",
    "- сколько раз приходит премия в год.\n",
    "\n",
    "Остальная часть заработанной платы откладывается на пенсию.\n",
    "\n",
    "Также пользователю приходит премия в размере зарплаты, от которой половина уходит на отпуск, а вторая половина откладывается.\n",
    "\n",
    "Программа должна учитывать сколько премий было в год.\n",
    "\n",
    "Нужно вывести сколько денег тратит пользователь на ипотеку и сколько он накопит за год.\n",
    "\n",
    "Пример:\n",
    "\n",
    "Введите заработанную плату в месяц: 100000\n",
    "\n",
    "Введите сколько процентов уходит на ипотеку: 30\n",
    "\n",
    "Введите сколько процентов уходит на жизнь: 50\n",
    "\n",
    "Введите количество премий за год: 2\n",
    "\n",
    "Вывод:\n",
    "На ипотеку было потрачено: 360000 рублей\n",
    "Было накоплено: 340000 рублей"
   ]
  },
  {
   "cell_type": "code",
   "execution_count": 1,
   "metadata": {},
   "outputs": [
    {
     "name": "stdout",
     "output_type": "stream",
     "text": [
      "Введите заработную плату в месяц 100000\n",
      "Введите сколько процентов уходит на ипотеку 30\n",
      "Введите сколько процентов уходит на жизнь 50\n",
      "Введите количество премий за год 2\n",
      "На ипотеку было потрачено:  360000.0 рублей Было накоплено:  340000.0 рублей\n"
     ]
    }
   ],
   "source": [
    "income = int (input(\"Введите заработную плату в месяц \"))\n",
    "mortgage_rate = int (input(\"Введите сколько процентов уходит на ипотеку \"))            \n",
    "life = int (input(\"Введите сколько процентов уходит на жизнь \"))\n",
    "reward= int (input(\"Введите количество премий за год \"))\n",
    "vacation = income*reward*0.5\n",
    "pension = income*reward*0.5\n",
    "mortgage=12*income*mortgage_rate/100\n",
    "deposite =round(12*income-(mortgage + 12*income*life/100)+pension ,0)\n",
    "print(\"На ипотеку было потрачено: \", mortgage, \"рублей\", \"Было накоплено: \", deposite, \"рублей\")\n"
   ]
  }
 ],
 "metadata": {
  "kernelspec": {
   "display_name": "Python 3",
   "language": "python",
   "name": "python3"
  },
  "language_info": {
   "codemirror_mode": {
    "name": "ipython",
    "version": 3
   },
   "file_extension": ".py",
   "mimetype": "text/x-python",
   "name": "python",
   "nbconvert_exporter": "python",
   "pygments_lexer": "ipython3",
   "version": "3.7.3"
  }
 },
 "nbformat": 4,
 "nbformat_minor": 2
}
