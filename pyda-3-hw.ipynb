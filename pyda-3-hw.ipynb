{
 "cells": [
  {
   "cell_type": "markdown",
   "metadata": {},
   "source": [
    "## Задание 1"
   ]
  },
  {
   "cell_type": "markdown",
   "metadata": {},
   "source": [
    "Дан список вида:"
   ]
  },
  {
   "cell_type": "code",
   "execution_count": 4,
   "metadata": {},
   "outputs": [
    {
     "name": "stdout",
     "output_type": "stream",
     "text": [
      "103\n"
     ]
    }
   ],
   "source": [
    "data = [\n",
    "    [13, 25, 23, 34],\n",
    "    [45, 32, 44, 47],\n",
    "    [12, 33, 23, 95],\n",
    "    [13, 53, 34, 35]\n",
    "]\n",
    "\n",
    "def sum_diag ():\n",
    "    n=len(data)\n",
    "    result = sum (data[i][i] for i in range(n))\n",
    "    return result\n",
    "\n",
    "print(sum_diag())"
   ]
  },
  {
   "cell_type": "markdown",
   "metadata": {},
   "source": [
    "Напишите функцию, которая возвращает сумму элементов на диагонали. Т. е. 13+32+23+35."
   ]
  },
  {
   "cell_type": "markdown",
   "metadata": {},
   "source": [
    "## Задание 2"
   ]
  },
  {
   "cell_type": "markdown",
   "metadata": {},
   "source": [
    "Дан список чисел, часть из которых имеют строковый тип или содержат буквы. Напишите функцию, которая возвращает сумму квадратов элементов, которые могут быть числами."
   ]
  },
  {
   "cell_type": "code",
   "execution_count": 11,
   "metadata": {},
   "outputs": [
    {
     "data": {
      "text/plain": [
       "430"
      ]
     },
     "execution_count": 11,
     "metadata": {},
     "output_type": "execute_result"
    }
   ],
   "source": [
    "data = [1, '5', 'abc', 20, '2']\n",
    "\n",
    "def sum_squaere_num():\n",
    "    data_num =[]\n",
    "    for item in data:\n",
    "        try:\n",
    "            int(item)\n",
    "            data_num.append(item)\n",
    "        except:\n",
    "            pass\n",
    "    result = sum(int(i)**2 for i in data_num)\n",
    "    return result      \n",
    "\n",
    "sum_squaere_num()"
   ]
  },
  {
   "cell_type": "markdown",
   "metadata": {},
   "source": [
    "## Задание 3"
   ]
  },
  {
   "cell_type": "markdown",
   "metadata": {},
   "source": [
    "Напишите функцию, возвращающую сумму первых n чисел Фибоначчи."
   ]
  },
  {
   "cell_type": "code",
   "execution_count": 12,
   "metadata": {},
   "outputs": [
    {
     "data": {
      "text/plain": [
       "12"
      ]
     },
     "execution_count": 12,
     "metadata": {},
     "output_type": "execute_result"
    }
   ],
   "source": [
    "def fibonachi(n):\n",
    "    if n in [1,2]:\n",
    "        return 1\n",
    "    else:\n",
    "        result = fibonachi(n-1) + fibonachi(n-2)\n",
    "    return result  \n",
    "    \n",
    "def sum_fibonachi(n):\n",
    "     \n",
    "    result = [fibonachi(i) for i in range(1, n+1)]\n",
    "    return sum(result)\n",
    "    \n",
    "sum_fibonachi(5)          \n",
    "          \n"
   ]
  },
  {
   "cell_type": "markdown",
   "metadata": {},
   "source": [
    "## Задание 4"
   ]
  },
  {
   "cell_type": "markdown",
   "metadata": {},
   "source": [
    "Дан набор данных об обучении студентов на курсе программирования, который содержит: \n",
    "1) имя\n",
    "2) фамилию \n",
    "3) пол \n",
    "4) наличие у студента опыта в программировании \n",
    "5) набор оценок за домашние работы \n",
    "6) оценку за итоговую работу.\n",
    "\n",
    "Напишите программу, которая будет принимать команду от пользователя и возвращать соотвествующий результат.\n",
    "Список команд: \n",
    "1 - вывести на экран среднюю оценку за все ДЗ по группе и вывести на экран среднюю оценку за экзамен по группе;\n",
    "2 - вывести среднюю оценку за ДЗ и за экзамен по группе в разрезе пола студентов\n",
    "3 - вывести среднюю оценку за ДЗ и за экзамен в разрезе наличия опыта в программировании у студентов.\n",
    "\n",
    "Прогрмма должна быть полностью декомпозирована на функции (кроме объявления функций и вызова итоговой функции в реализации ничего быть не должно)."
   ]
  },
  {
   "cell_type": "code",
   "execution_count": 3,
   "metadata": {},
   "outputs": [
    {
     "name": "stdout",
     "output_type": "stream",
     "text": [
      "Команды: 1 - вывести на экран среднюю оценку за все ДЗ по группе и вывести на экран среднюю оценку за экзамен по группе; 2 - вывести среднюю оценку за ДЗ и за экзамен по группе в разрезе пола студентов 3 - вывести среднюю оценку за ДЗ и за экзамен в разрезе наличия опыта в программировании у студентов.\n",
      "\n",
      "Введите команду3\n",
      "Средняя оценка за все ДЗ c опытом в программировании:  8.5\n",
      "Средняя оценка за экзамен c опытом в программировании:  9.0\n",
      "Средняя оценка за все ДЗ без опыта в программировании:  8.2\n",
      "Средняя оценка за экзамен без опыта в программировании:  10.0\n"
     ]
    }
   ],
   "source": [
    "students_list = [\n",
    "    {'name': 'Василий', 'surname': 'Теркин', 'sex': 'м', 'program_exp': True, 'grade': [8, 8, 9, 10, 9], 'exam': 9},\n",
    "    {'name': 'Мария', 'surname': 'Павлова', 'sex': 'ж', 'program_exp': True, 'grade': [7, 8, 9, 7, 9], 'exam': 8},\n",
    "    {'name': 'Ирина', 'surname': 'Андреева', 'sex': 'ж', 'program_exp': True, 'grade': [10, 9, 8, 10, 10], 'exam': 10},\n",
    "    {'name': 'Татьяна', 'surname': 'Сидорова', 'sex': 'ж', 'program_exp': True, 'grade': [7, 8, 8, 9, 8], 'exam': 8},\n",
    "    {'name': 'Иван', 'surname': 'Васильев', 'sex': 'ж', 'program_exp': True, 'grade': [9, 8, 9, 6, 9], 'exam': 10},\n",
    "    {'name': 'Роман', 'surname': 'Золотарев', 'sex': 'ж', 'program_exp': False, 'grade': [8, 9, 9, 6, 9], 'exam': 10}\n",
    "]\n",
    "\n",
    "def average_grade_all(students):\n",
    "    average_grade_hw = 0\n",
    "    average_grade_exam = 0\n",
    "    for student in students:\n",
    "        average_grade_hw += sum(student['grade'])/len(student['grade'])\n",
    "        average_grade_exam += student['exam']\n",
    "    print('Средняя оценка за все ДЗ по группе: ', round( average_grade_hw / len(students), 1))\n",
    "    print('Средняя оценка за экзамен по группе: ', round( average_grade_exam / len(students), 1))\n",
    "\n",
    "#average_grade_all(students_list)\n",
    "\n",
    "def average_grade_sex(students, sex_stud = 'м'):\n",
    "    average_grade_hw = 0\n",
    "    average_grade_exam = 0\n",
    "    number_students = 0\n",
    "    for student in students:\n",
    "        if student['sex'] == sex_stud:\n",
    "            average_grade_hw += sum(student['grade'])/len(student['grade'])\n",
    "            average_grade_exam += student['exam']\n",
    "            number_students +=1\n",
    "    if sex_stud == 'м':\n",
    "        print('Средняя оценка за все ДЗ у мужчин: ', round( average_grade_hw / number_students, 1))\n",
    "        print('Средняя оценка за экзамен у мужчин: ', round( average_grade_exam / number_students, 1))\n",
    "    else:\n",
    "        print('Средняя оценка за все ДЗ у женщин: ', round( average_grade_hw / number_students, 1))\n",
    "        print('Средняя оценка за экзамен у женщин: ', round( average_grade_exam / number_students, 1))\n",
    "\n",
    "    \n",
    "#average_grade_sex(students_list, sex_stud = 'м' )\n",
    "#average_grade_sex(students_list, sex_stud = 'ж' )\n",
    "\n",
    "def average_grade_pro_exp(students, pro_exp = True):\n",
    "    average_grade_hw = 0\n",
    "    average_grade_exam = 0\n",
    "    number_students = 0\n",
    "    for student in students:\n",
    "        if student['program_exp'] == pro_exp:\n",
    "            average_grade_hw += sum(student['grade'])/len(student['grade'])\n",
    "            average_grade_exam += student['exam']\n",
    "            number_students +=1\n",
    "        \n",
    "    if pro_exp == True:  \n",
    "        print('Средняя оценка за все ДЗ c опытом в программировании: ', round( average_grade_hw / number_students, 1))\n",
    "        print('Средняя оценка за экзамен c опытом в программировании: ', round( average_grade_exam / number_students, 1))\n",
    "        \n",
    "    else:\n",
    "        print('Средняя оценка за все ДЗ без опыта в программировании: ', round( average_grade_hw / number_students, 1))\n",
    "        print('Средняя оценка за экзамен без опыта в программировании: ', round( average_grade_exam / number_students, 1))\n",
    "        \n",
    "\n",
    "#average_grade_pro_exp(students_list, pro_exp = True)\n",
    "#average_grade_pro_exp(students_list, pro_exp = False)\n",
    "\n",
    "print('Команды: 1 - вывести на экран среднюю оценку за все ДЗ по группе и вывести на экран среднюю оценку за экзамен по группе; 2 - вывести среднюю оценку за ДЗ и за экзамен по группе в разрезе пола студентов 3 - вывести среднюю оценку за ДЗ и за экзамен в разрезе наличия опыта в программировании у студентов.\\n')\n",
    "def view():\n",
    "    command = input('Введите команду')\n",
    "    if command == '1':\n",
    "        average_grade_all(students_list)\n",
    "    elif command == '2':\n",
    "        average_grade_sex(students_list, sex_stud = 'м' )\n",
    "        average_grade_sex(students_list, sex_stud = 'ж' )\n",
    "    elif command == '3':\n",
    "        average_grade_pro_exp(students_list, pro_exp = True)\n",
    "        average_grade_pro_exp(students_list, pro_exp = False)     \n",
    "view()"
   ]
  }
 ],
 "metadata": {
  "kernelspec": {
   "display_name": "Python 3",
   "language": "python",
   "name": "python3"
  },
  "language_info": {
   "codemirror_mode": {
    "name": "ipython",
    "version": 3
   },
   "file_extension": ".py",
   "mimetype": "text/x-python",
   "name": "python",
   "nbconvert_exporter": "python",
   "pygments_lexer": "ipython3",
   "version": "3.7.3"
  }
 },
 "nbformat": 4,
 "nbformat_minor": 2
}
