{
 "cells": [
  {
   "cell_type": "markdown",
   "metadata": {},
   "source": [
    "# Задание 1\n",
    "Напишите функцию date_range, которая возвращает список дней между датами start_date и end_date. Даты должны вводиться в формате YYYY-MM-DD."
   ]
  },
  {
   "cell_type": "code",
   "execution_count": 2,
   "metadata": {},
   "outputs": [
    {
     "name": "stdout",
     "output_type": "stream",
     "text": [
      "2019-05-07\n",
      "2019-05-08\n"
     ]
    }
   ],
   "source": [
    "from datetime import datetime\n",
    "from datetime import timedelta\n",
    "\n",
    "start_date = '2019-05-07'\n",
    "end_date = '2019-05-08'\n",
    "\n",
    "def date_range():\n",
    "    start_date_str = datetime.strptime(start_date, '%Y-%m-%d')\n",
    "    end_date_str = datetime.strptime(end_date, '%Y-%m-%d')\n",
    "    current_day = start_date_str\n",
    "    \n",
    "    while current_day <= end_date_str:\n",
    "        print(current_day.strftime('%Y-%m-%d'))\n",
    "        current_day += timedelta(days = 1)\n",
    "         \n",
    "\n",
    "date_range()"
   ]
  },
  {
   "cell_type": "markdown",
   "metadata": {},
   "source": [
    "# Задание 2\n",
    "Дополните функцию из первого задания проверкой на корректность дат. В случае неверного формата или если start_date > end_date должен возвращаться пустой список."
   ]
  },
  {
   "cell_type": "code",
   "execution_count": 3,
   "metadata": {},
   "outputs": [
    {
     "name": "stdout",
     "output_type": "stream",
     "text": [
      "2019-05-07\n",
      "2019-05-08\n"
     ]
    }
   ],
   "source": [
    "def date_range_edd():\n",
    "    try:\n",
    "        if (start_date == datetime.strptime(start_date, '%Y-%m-%d').strftime('%Y-%m-%d') or end_date == datetime.strptime(end_date, '%Y-%m-%d').strftime('%Y-%m-%d')): \n",
    "            start_date_str = datetime.strptime(start_date, '%Y-%m-%d')\n",
    "            end_date_str = datetime.strptime(end_date, '%Y-%m-%d')\n",
    "            current_day = start_date_str\n",
    "            if(start_date < end_date):    \n",
    "                while current_day <= end_date_str:\n",
    "                    print(current_day.strftime('%Y-%m-%d'))\n",
    "                    current_day += timedelta(days = 1)\n",
    "            else:\n",
    "                print('Начальная дата позже конечной даты')\n",
    "    except:\n",
    "        print('Неверный формат даты')\n",
    "\n",
    "date_range_edd()"
   ]
  },
  {
   "cell_type": "markdown",
   "metadata": {},
   "source": [
    "# Задание 3\n",
    "\n",
    "Дан поток дат в формате YYYY-MM-DD, в которых встречаются некорректные значения:\n",
    "stream = ['2018-04-02', '2018-02-29', '2018-19-02']\n",
    "\n",
    "Напишите функцию, которая проверяет эти даты на корректность. Т. е. для каждой даты возвращает True (дата корректна) или False (некорректная дата). "
   ]
  },
  {
   "cell_type": "code",
   "execution_count": 4,
   "metadata": {},
   "outputs": [
    {
     "name": "stdout",
     "output_type": "stream",
     "text": [
      "2018-04-02 True\n",
      "2018-02-29 False\n",
      "2018-19-02 False\n"
     ]
    }
   ],
   "source": [
    "stream = ['2018-04-02', '2018-02-29', '2018-19-02']\n",
    "\n",
    "\n",
    "def data_check():\n",
    "    for data in stream:\n",
    "        try:\n",
    "            data == datetime.strptime(data, '%Y-%m-%d')\n",
    "            print(data, True)\n",
    "        except:\n",
    "            print(data, False)\n",
    "            pass\n",
    "             \n",
    "data_check()"
   ]
  },
  {
   "cell_type": "markdown",
   "metadata": {},
   "source": [
    "# Задание 4\n",
    "В последнем примере поиска по словарю мы использовали 3 столбца. Напишите функцию, которая формирует словарь для поиска по n столбцам.\n",
    "\n"
   ]
  },
  {
   "cell_type": "code",
   "execution_count": 5,
   "metadata": {},
   "outputs": [
    {
     "name": "stdout",
     "output_type": "stream",
     "text": [
      "Количество столбцов для поиска: 3\n",
      "39156\n"
     ]
    }
   ],
   "source": [
    "stats_dict = {}\n",
    "\n",
    "with open('stats.csv') as f:\n",
    "    n = int(input('Количество столбцов для поиска: '))\n",
    "    line_to_find = ('20', '20552', '3')\n",
    "    for line in f:\n",
    "        line = line.strip().split(',')\n",
    "        stats_dict[tuple(line[:n])] = line[n]\n",
    "    find =   stats_dict[line_to_find]\n",
    "    print (find)\n",
    " \n",
    "\n"
   ]
  }
 ],
 "metadata": {
  "kernelspec": {
   "display_name": "Python 3",
   "language": "python",
   "name": "python3"
  },
  "language_info": {
   "codemirror_mode": {
    "name": "ipython",
    "version": 3
   },
   "file_extension": ".py",
   "mimetype": "text/x-python",
   "name": "python",
   "nbconvert_exporter": "python",
   "pygments_lexer": "ipython3",
   "version": "3.7.3"
  }
 },
 "nbformat": 4,
 "nbformat_minor": 2
}
